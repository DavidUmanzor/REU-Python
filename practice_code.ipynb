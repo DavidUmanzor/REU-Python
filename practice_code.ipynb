{
 "metadata": {
  "language_info": {
   "codemirror_mode": {
    "name": "ipython",
    "version": 3
   },
   "file_extension": ".py",
   "mimetype": "text/x-python",
   "name": "python",
   "nbconvert_exporter": "python",
   "pygments_lexer": "ipython3",
   "version": "3.9.5"
  },
  "orig_nbformat": 2,
  "kernelspec": {
   "name": "python395jvsc74a57bd00af8406a158ea6af9bc6b3db1491c36ee5a287e805328c782a8d1f214cc7c04e",
   "display_name": "Python 3.9.5 64-bit ('PythonSoftwareFoundation.Python.3.9_qbz5n2kfra8p0')"
  },
  "metadata": {
   "interpreter": {
    "hash": "0af8406a158ea6af9bc6b3db1491c36ee5a287e805328c782a8d1f214cc7c04e"
   }
  }
 },
 "nbformat": 4,
 "nbformat_minor": 2,
 "cells": [
  {
   "cell_type": "code",
   "execution_count": 6,
   "metadata": {},
   "outputs": [
    {
     "output_type": "stream",
     "name": "stdout",
     "text": [
      "The sum of the two is 6\n"
     ]
    }
   ],
   "source": [
    "# Simple Addition Calculator\n",
    "firstDigit = int(input(\"Please enter first number\"))\n",
    "secondDigit = int(input(\"Please enter second number\"))\n",
    "sumOfNumbers = firstDigit + secondDigit\n",
    "print('The sum of the two is', sumOfNumbers)"
   ]
  },
  {
   "cell_type": "code",
   "execution_count": 23,
   "metadata": {},
   "outputs": [
    {
     "output_type": "stream",
     "name": "stdout",
     "text": [
      "Enter a operation.\n1.Add\n2.Subtract\n3.Multiply\n4.Divide\n"
     ]
    },
    {
     "output_type": "error",
     "ename": "NameError",
     "evalue": "name 'operaton' is not defined",
     "traceback": [
      "\u001b[1;31m---------------------------------------------------------------------------\u001b[0m",
      "\u001b[1;31mNameError\u001b[0m                                 Traceback (most recent call last)",
      "\u001b[1;32m<ipython-input-23-2ee437583fbc>\u001b[0m in \u001b[0;36m<module>\u001b[1;34m\u001b[0m\n\u001b[0;32m     14\u001b[0m \u001b[1;33m\u001b[0m\u001b[0m\n\u001b[0;32m     15\u001b[0m \u001b[1;31m#Checks if its one of the operations\u001b[0m\u001b[1;33m\u001b[0m\u001b[1;33m\u001b[0m\u001b[1;33m\u001b[0m\u001b[0m\n\u001b[1;32m---> 16\u001b[1;33m \u001b[1;32mif\u001b[0m \u001b[0moperaton\u001b[0m \u001b[1;33m==\u001b[0m \u001b[1;34m\"1\"\u001b[0m\u001b[1;33m:\u001b[0m\u001b[1;33m\u001b[0m\u001b[1;33m\u001b[0m\u001b[0m\n\u001b[0m\u001b[0;32m     17\u001b[0m     \u001b[0manswer\u001b[0m \u001b[1;33m=\u001b[0m \u001b[0mfirstDigit\u001b[0m \u001b[1;33m+\u001b[0m \u001b[0msecondDigit\u001b[0m\u001b[1;33m\u001b[0m\u001b[1;33m\u001b[0m\u001b[0m\n\u001b[0;32m     18\u001b[0m \u001b[1;32melif\u001b[0m \u001b[0moperation\u001b[0m \u001b[1;33m==\u001b[0m \u001b[1;34m\"2\"\u001b[0m\u001b[1;33m:\u001b[0m\u001b[1;33m\u001b[0m\u001b[1;33m\u001b[0m\u001b[0m\n",
      "\u001b[1;31mNameError\u001b[0m: name 'operaton' is not defined"
     ]
    }
   ],
   "source": [
    "#Simple Two Number Calculator\n",
    "\n",
    "#Takes first numbers from the user\n",
    "firstDigit = float(input(\"Please enter first number\"))\n",
    "secondDigit = float(input(\"Please enter second number\"))\n",
    "\n",
    "#Informs users of operations to select from\n",
    "print(\"Enter a operation.\")\n",
    "print(\"1.Add\")\n",
    "print(\"2.Subtract\")\n",
    "print(\"3.Multiply\")\n",
    "print(\"4.Divide\")\n",
    "operation = input(\"Enter the type of operation\")\n",
    "\n",
    "#Checks if its one of the operations\n",
    "if operaton == \"1\":\n",
    "    answer = firstDigit + secondDigit\n",
    "elif operation == \"2\":\n",
    "    answer = firstDigit - secondDigit\n",
    "elif operation == \"3\":\n",
    "    answer = firstDigit * secondDigit\n",
    "elif operation == \"4\":\n",
    "    answer = firstDigit / secondDigit\n",
    "else:\n",
    "    print(\"Invalid Input\")\n",
    "print(\"The solution to your problem is\", answer)"
   ]
  },
  {
   "cell_type": "code",
   "execution_count": null,
   "metadata": {},
   "outputs": [],
   "source": []
  }
 ]
}