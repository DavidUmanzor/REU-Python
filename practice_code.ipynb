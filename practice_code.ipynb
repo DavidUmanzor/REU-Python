{
 "metadata": {
  "language_info": {
   "codemirror_mode": {
    "name": "ipython",
    "version": 3
   },
   "file_extension": ".py",
   "mimetype": "text/x-python",
   "name": "python",
   "nbconvert_exporter": "python",
   "pygments_lexer": "ipython3",
   "version": "3.9.5"
  },
  "orig_nbformat": 2,
  "kernelspec": {
   "name": "python395jvsc74a57bd00af8406a158ea6af9bc6b3db1491c36ee5a287e805328c782a8d1f214cc7c04e",
   "display_name": "Python 3.9.5 64-bit ('PythonSoftwareFoundation.Python.3.9_qbz5n2kfra8p0')"
  },
  "metadata": {
   "interpreter": {
    "hash": "0af8406a158ea6af9bc6b3db1491c36ee5a287e805328c782a8d1f214cc7c04e"
   }
  }
 },
 "nbformat": 4,
 "nbformat_minor": 2,
 "cells": [
  {
   "cell_type": "code",
   "execution_count": 6,
   "metadata": {},
   "outputs": [
    {
     "output_type": "stream",
     "name": "stdout",
     "text": [
      "The sum of the two is 6\n"
     ]
    }
   ],
   "source": [
    "# Simple Addition Calculator\n",
    "firstDigit = int(input(\"Please enter first number\"))\n",
    "secondDigit = int(input(\"Please enter second number\"))\n",
    "sumOfNumbers = firstDigit + secondDigit\n",
    "print('The sum of the two is', sumOfNumbers)"
   ]
  },
  {
   "cell_type": "code",
   "execution_count": 41,
   "metadata": {},
   "outputs": [
    {
     "output_type": "stream",
     "name": "stdout",
     "text": [
      "Enter a operation.\n",
      "1.Add\n",
      "2.Subtract\n",
      "3.Multiply\n",
      "4.Divide\n",
      "Invalid Input\n"
     ]
    }
   ],
   "source": [
    "#Simple Two Number Calculator\n",
    "\n",
    "#Takes first numbers from the user\n",
    "firstDigit = float(input(\"Please enter first number\"))\n",
    "secondDigit = float(input(\"Please enter second number\"))\n",
    "\n",
    "#Informs users of operations to select from\n",
    "print(\"Enter a operation.\")\n",
    "print(\"1.Add\")\n",
    "print(\"2.Subtract\")\n",
    "print(\"3.Multiply\")\n",
    "print(\"4.Divide\")\n",
    "operation = input(\"Enter the type of operation\")\n",
    "\n",
    "#Checks if its one of the operations\n",
    "if operation in (\"1\", \"2\", \"3\", \"4\"):\n",
    "    if operation == \"1\":\n",
    "        print(\"The solution to the problem is:\", firstDigit + secondDigit)\n",
    "    elif operation == \"2\":\n",
    "        print(\"The solution to the problem is:\", firstDigit - secondDigit)\n",
    "    elif operation == \"3\":\n",
    "        print(\"The solution to the problem is:\", firstDigit * secondDigit)\n",
    "    elif operation == \"4\":\n",
    "        print(\"The solution to the problem is:\", firstDigit / secondDigit)\n",
    "    \n",
    "else:\n",
    "    print(\"Invalid Input\")"
   ]
  },
  {
   "cell_type": "code",
   "execution_count": null,
   "metadata": {},
   "outputs": [],
   "source": []
  }
 ]
}