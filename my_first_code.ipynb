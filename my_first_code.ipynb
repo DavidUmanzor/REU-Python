{
 "metadata": {
  "language_info": {
   "codemirror_mode": {
    "name": "ipython",
    "version": 3
   },
   "file_extension": ".py",
   "mimetype": "text/x-python",
   "name": "python",
   "nbconvert_exporter": "python",
   "pygments_lexer": "ipython3",
   "version": "3.9.5"
  },
  "orig_nbformat": 2,
  "kernelspec": {
   "name": "python3",
   "display_name": "Python 3.9.5 64-bit ('PythonSoftwareFoundation.Python.3.9_qbz5n2kfra8p0')"
  },
  "metadata": {
   "interpreter": {
    "hash": "0af8406a158ea6af9bc6b3db1491c36ee5a287e805328c782a8d1f214cc7c04e"
   }
  },
  "interpreter": {
   "hash": "0af8406a158ea6af9bc6b3db1491c36ee5a287e805328c782a8d1f214cc7c04e"
  }
 },
 "nbformat": 4,
 "nbformat_minor": 2,
 "cells": [
  {
   "cell_type": "code",
   "execution_count": 2,
   "metadata": {},
   "outputs": [
    {
     "output_type": "stream",
     "name": "stdout",
     "text": [
      "1\n<class 'int'>\n100000000000000000000000000000000000000000000000000000000000000000000001\n<class 'int'>\n"
     ]
    }
   ],
   "source": [
    "x = 1\n",
    "print(x)\n",
    "print(type(x))\n",
    "x = 100000000000000000000000000000000000000000000000000000000000000000000001\n",
    "print(x)\n",
    "print(type(x))"
   ]
  },
  {
   "cell_type": "code",
   "execution_count": 8,
   "metadata": {},
   "outputs": [
    {
     "output_type": "stream",
     "name": "stdout",
     "text": [
      "20\n<class 'int'>\n"
     ]
    }
   ],
   "source": [
    "age = int(input('Please enter your age: '))\n",
    "print(age)\n",
    "print(type(age))"
   ]
  },
  {
   "cell_type": "code",
   "execution_count": 7,
   "metadata": {},
   "outputs": [
    {
     "output_type": "stream",
     "name": "stdout",
     "text": [
      "1.83\n<class 'float'>\n"
     ]
    }
   ],
   "source": [
    "# Floating Points\n",
    "exchange_rate = 1.83\n",
    "print(exchange_rate)\n",
    "print(type(exchange_rate))"
   ]
  },
  {
   "cell_type": "code",
   "execution_count": 9,
   "metadata": {},
   "outputs": [
    {
     "output_type": "stream",
     "name": "stdout",
     "text": [
      "int value as a float:  1.0\n<class 'float'>\nstring value as a float: 1.5\n<class 'float'>\n"
     ]
    }
   ],
   "source": [
    "#Converting to Floats\n",
    "int_value = 1\n",
    "string_value = '1.5'\n",
    "float_value = float(int_value)\n",
    "print('int value as a float: ', float_value)\n",
    "print(type(float_value))\n",
    "float_value = float(string_value)\n",
    "print('string value as a float:', float_value)\n",
    "print(type(float_value))"
   ]
  },
  {
   "cell_type": "code",
   "execution_count": 10,
   "metadata": {},
   "outputs": [
    {
     "output_type": "stream",
     "name": "stdout",
     "text": [
      "2.3\n<class 'float'>\n"
     ]
    }
   ],
   "source": [
    "#Converting an Input String into a Floating Point Number\n",
    "exchange_rate = float(input('Please enter the exchange rate to use: '))\n",
    "print(exchange_rate)\n",
    "print(type(exchange_rate))"
   ]
  },
  {
   "cell_type": "code",
   "execution_count": 11,
   "metadata": {},
   "outputs": [
    {
     "output_type": "stream",
     "name": "stdout",
     "text": [
      "True\nFalse\n<class 'bool'>\n"
     ]
    }
   ],
   "source": [
    "# Boolean value\n",
    "all_ok = True\n",
    "print(all_ok)\n",
    "all_ok = False\n",
    "print(all_ok)\n",
    "print(type(all_ok))"
   ]
  },
  {
   "cell_type": "code",
   "execution_count": 12,
   "metadata": {},
   "outputs": [
    {
     "output_type": "stream",
     "name": "stdout",
     "text": [
      "True\n<class 'bool'>\n"
     ]
    }
   ],
   "source": [
    "# Convert string into Boolean\n",
    "status = bool(input('Ok to proceed: '))\n",
    "print(status)\n",
    "print(type(status))"
   ]
  },
  {
   "cell_type": "code",
   "execution_count": 13,
   "metadata": {},
   "outputs": [
    {
     "output_type": "stream",
     "name": "stdout",
     "text": [
      "1\n0\nTrue\nFalse\n"
     ]
    }
   ],
   "source": [
    "# the Boolean type is actually a subtype of integer\n",
    "print(int(True))\n",
    "print(int(False))\n",
    "print(bool(1))\n",
    "print(bool(0))"
   ]
  },
  {
   "cell_type": "code",
   "execution_count": 15,
   "metadata": {},
   "outputs": [
    {
     "output_type": "stream",
     "name": "stdout",
     "text": [
      "25\n<class 'int'>\n40\n<class 'int'>\n3\n<class 'int'>\n"
     ]
    }
   ],
   "source": [
    "home = 10\n",
    "away = 15\n",
    "print(home + away)\n",
    "print(type(home + away))\n",
    "print(10*4)\n",
    "print(type(10*4))\n",
    "goals_for = 10\n",
    "goals_agains = 7\n",
    "print(goals_for-goals_agains)\n",
    "print(type(goals_for-goals_agains))"
   ]
  },
  {
   "cell_type": "code",
   "execution_count": 17,
   "metadata": {},
   "outputs": [
    {
     "output_type": "stream",
     "name": "stdout",
     "text": [
      "5.0\n<class 'float'>\n"
     ]
    }
   ],
   "source": [
    "print(100/20)\n",
    "print(type(100/20))"
   ]
  },
  {
   "cell_type": "code",
   "execution_count": 18,
   "metadata": {},
   "outputs": [
    {
     "output_type": "stream",
     "name": "stdout",
     "text": [
      "25\n"
     ]
    }
   ],
   "source": [
    "print(5**2)"
   ]
  },
  {
   "cell_type": "code",
   "execution_count": 19,
   "metadata": {},
   "outputs": [
    {
     "output_type": "stream",
     "name": "stdout",
     "text": [
      "-4 Is a negative number.\n"
     ]
    }
   ],
   "source": [
    "#Working with an If Statement\n",
    "num = int(input('Enter a number: '))\n",
    "if num < 0:\n",
    "    print(num, 'Is a negative number.')"
   ]
  },
  {
   "cell_type": "code",
   "execution_count": 21,
   "metadata": {},
   "outputs": [
    {
     "output_type": "stream",
     "name": "stdout",
     "text": [
      "12 is positive\n12 square is 144\nBye\n"
     ]
    }
   ],
   "source": [
    "num = int(input('Enter another number: '))\n",
    "if num > 0:\n",
    "    print(num, 'is positive')\n",
    "    print(num, 'square is', num**2)\n",
    "print('Bye')"
   ]
  },
  {
   "cell_type": "code",
   "execution_count": 22,
   "metadata": {},
   "outputs": [
    {
     "output_type": "stream",
     "name": "stdout",
     "text": [
      "-52 is negative\nBye\n"
     ]
    }
   ],
   "source": [
    "num = int(input('Enter another number: '))\n",
    "if num > 0:\n",
    "    print(num, 'is positive')\n",
    "    print(num, 'square is', num**2)\n",
    "else:\n",
    "    print(num, 'is negative')\n",
    "print('Bye')"
   ]
  },
  {
   "cell_type": "code",
   "execution_count": 24,
   "metadata": {},
   "outputs": [
    {
     "output_type": "stream",
     "name": "stdout",
     "text": [
      "Welcome Sir!\n"
     ]
    }
   ],
   "source": [
    "saving = float(input('Enter how much you have in saving: '))\n",
    "if saving == 0:\n",
    "    print(\"sorry no saving\")\n",
    "elif saving < 500 and saving > 0:\n",
    "    print('Well done')\n",
    "elif saving < 1000 and saving > 0:\n",
    "    print('Thats a tindy sum')\n",
    "elif saving < 10000 and saving > 0:\n",
    "    print('Welcome Sir!')\n",
    "else:\n",
    "    print('Thank you')"
   ]
  },
  {
   "cell_type": "code",
   "execution_count": 1,
   "metadata": {},
   "outputs": [
    {
     "output_type": "stream",
     "name": "stdout",
     "text": [
      "teenager\n"
     ]
    }
   ],
   "source": [
    "age = 15\n",
    "status = None\n",
    "if (age > 12) and age < 20:\n",
    "    status = 'teenager'\n",
    "else:\n",
    "    status = 'teenager'\n",
    "print(status)"
   ]
  },
  {
   "cell_type": "code",
   "execution_count": 4,
   "metadata": {},
   "outputs": [
    {
     "output_type": "stream",
     "name": "stdout",
     "text": [
      "Bye\n"
     ]
    }
   ],
   "source": [
    "# Nesting If Statements\n",
    "snowing = False\n",
    "temp = -1\n",
    "if temp < 65:\n",
    "    print('It is freezing')\n",
    "    if snowing:\n",
    "        print('Put on boots')\n",
    "        print('Time for Hot Chocolate')\n",
    "print('Bye')"
   ]
  },
  {
   "cell_type": "code",
   "execution_count": 5,
   "metadata": {},
   "outputs": [
    {
     "output_type": "stream",
     "name": "stdout",
     "text": [
      "Starting\n0  1  2  3  4  5  6  7  8  9  \nDone\n"
     ]
    }
   ],
   "source": [
    "count = 0\n",
    "print('Starting')\n",
    "while count < 10:\n",
    "    print(count, ' ', end='') # part of the while loop\n",
    "    count += 1 # also part of the while loop\n",
    "print() #not part of the while loop\n",
    "print('Done')"
   ]
  },
  {
   "cell_type": "code",
   "execution_count": 6,
   "metadata": {},
   "outputs": [
    {
     "output_type": "stream",
     "name": "stdout",
     "text": [
      "Print out values in a range\n0  1  2  3  4  5  6  7  8  9  Done\n"
     ]
    }
   ],
   "source": [
    "print('Print out values in a range')\n",
    "for i in range (0,10):\n",
    "    print(i, ' ', end='')\n",
    "print('Done')"
   ]
  },
  {
   "cell_type": "code",
   "execution_count": 8,
   "metadata": {},
   "outputs": [
    {
     "output_type": "stream",
     "name": "stdout",
     "text": [
      "Only print code if all iterations completed\n",
      "0  1  2  3  4  5  Done\n"
     ]
    }
   ],
   "source": [
    "# Break Loop Statements\n",
    "print('Only print code if all iterations completed')\n",
    "num = int(input('Enter a number to check for: '))\n",
    "for i in range(0,6):\n",
    "    if i==num:\n",
    "        break\n",
    "    print(i,' ',end='')\n",
    "print('Done')"
   ]
  },
  {
   "cell_type": "code",
   "execution_count": 12,
   "metadata": {},
   "outputs": [
    {
     "output_type": "stream",
     "name": "stdout",
     "text": [
      "0 \n\nhey its an even number\nwe love even number\n1 \n\n2 \n\nhey its an even number\nwe love even number\n3 \n\n4 \n\nhey its an even number\nwe love even number\n5 \n\n6 \n\nhey its an even number\nwe love even number\n7 \n\n8 \n\nhey its an even number\nwe love even number\n9 \n\nDone\n"
     ]
    }
   ],
   "source": [
    "# Continue Loop Statements\n",
    "for i in range(0,10):\n",
    "    print(i,'\\n')\n",
    "    if i%2==1:\n",
    "        continue\n",
    "    print('hey its an even number')\n",
    "    print('we love even number')\n",
    "print('Done')"
   ]
  },
  {
   "cell_type": "code",
   "execution_count": 19,
   "metadata": {},
   "outputs": [
    {
     "output_type": "execute_result",
     "data": {
      "text/plain": [
       "['orange', 'apple', 'orange', 'kiwi', 'apple', 'banana', 'kiwi']"
      ]
     },
     "metadata": {},
     "execution_count": 19
    }
   ],
   "source": [
    "# Creating a list\n",
    "fruits = ['orange', 'apple', 'pear', 'banana', 'kiwi', 'apple', 'banana', ]\n",
    "fruits.append('kiwi')\n",
    "fruits.insert(2,'orange')\n",
    "fruits.remove('pear')\n",
    "fruits.pop(3)\n",
    "fruits"
   ]
  },
  {
   "cell_type": "code",
   "execution_count": 22,
   "metadata": {},
   "outputs": [
    {
     "output_type": "execute_result",
     "data": {
      "text/plain": [
       "{'jack': 4098, 'sape': 4139}"
      ]
     },
     "metadata": {},
     "execution_count": 22
    }
   ],
   "source": [
    "#Dictionaries\n",
    "tel = {'jack':4098, 'sape':4139}\n",
    "tel"
   ]
  },
  {
   "cell_type": "code",
   "execution_count": 23,
   "metadata": {},
   "outputs": [
    {
     "output_type": "execute_result",
     "data": {
      "text/plain": [
       "{'jack': 4098, 'sape': 4139, 'guido': 4127}"
      ]
     },
     "metadata": {},
     "execution_count": 23
    }
   ],
   "source": [
    "tel['guido']=4127\n",
    "tel"
   ]
  },
  {
   "cell_type": "code",
   "execution_count": 25,
   "metadata": {},
   "outputs": [
    {
     "output_type": "execute_result",
     "data": {
      "text/plain": [
       "{'jack': 4098, 'guido': 4127}"
      ]
     },
     "metadata": {},
     "execution_count": 25
    }
   ],
   "source": [
    "tel['jack']\n",
    "del tel['sape']\n",
    "tel"
   ]
  },
  {
   "cell_type": "code",
   "execution_count": 26,
   "metadata": {},
   "outputs": [
    {
     "output_type": "execute_result",
     "data": {
      "text/plain": [
       "['jack', 'guido']"
      ]
     },
     "metadata": {},
     "execution_count": 26
    }
   ],
   "source": [
    "list(tel)"
   ]
  },
  {
   "cell_type": "code",
   "execution_count": 27,
   "metadata": {},
   "outputs": [
    {
     "output_type": "execute_result",
     "data": {
      "text/plain": [
       "['guido', 'jack']"
      ]
     },
     "metadata": {},
     "execution_count": 27
    }
   ],
   "source": [
    "sorted(tel)"
   ]
  },
  {
   "cell_type": "code",
   "execution_count": 28,
   "metadata": {},
   "outputs": [
    {
     "output_type": "stream",
     "name": "stdout",
     "text": [
      "gallahad the pure\nrobin the brave\n"
     ]
    }
   ],
   "source": [
    "knight = {'gallahad':'the pure', 'robin':'the brave'}\n",
    "for k, v in knight.items():\n",
    "    print(k,v)"
   ]
  },
  {
   "cell_type": "code",
   "execution_count": 29,
   "metadata": {},
   "outputs": [
    {
     "output_type": "execute_result",
     "data": {
      "text/plain": [
       "'Ford'"
      ]
     },
     "metadata": {},
     "execution_count": 29
    }
   ],
   "source": [
    "thisdict = {'brand':'Ford','electric':False, 'Year':1964, 'colors':['red','white','blue']}\n",
    "thisdict['brand']"
   ]
  },
  {
   "cell_type": "code",
   "execution_count": 30,
   "metadata": {},
   "outputs": [
    {
     "output_type": "execute_result",
     "data": {
      "text/plain": [
       "False"
      ]
     },
     "metadata": {},
     "execution_count": 30
    }
   ],
   "source": [
    "thisdict['electric']"
   ]
  },
  {
   "cell_type": "code",
   "execution_count": 32,
   "metadata": {},
   "outputs": [
    {
     "output_type": "execute_result",
     "data": {
      "text/plain": [
       "['red', 'white', 'blue']"
      ]
     },
     "metadata": {},
     "execution_count": 32
    }
   ],
   "source": [
    "thisdict['colors']"
   ]
  },
  {
   "cell_type": "code",
   "execution_count": 33,
   "metadata": {},
   "outputs": [
    {
     "output_type": "execute_result",
     "data": {
      "text/plain": [
       "'red'"
      ]
     },
     "metadata": {},
     "execution_count": 33
    }
   ],
   "source": [
    "thisdict['colors'][0]"
   ]
  },
  {
   "cell_type": "code",
   "execution_count": null,
   "metadata": {},
   "outputs": [],
   "source": [
    "print('This will return the factorial of your number.')\n",
    "print('Input number:')\n",
    "num1 = input('Input number:')\n",
    "if num1 < 0:\n",
    "    print('Error')\n",
    "num1 "
   ]
  }
 ]
}